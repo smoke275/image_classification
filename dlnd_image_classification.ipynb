{
 "cells": [
  {
   "cell_type": "markdown",
   "metadata": {
    "collapsed": true
   },
   "source": [
    "# Image Classification\n",
    "In this project, you'll classify images from the [CIFAR-10 dataset](https://www.cs.toronto.edu/~kriz/cifar.html).  The dataset consists of airplanes, dogs, cats, and other objects. You'll preprocess the images, then train a convolutional neural network on all the samples. The images need to be normalized and the labels need to be one-hot encoded.  You'll get to apply what you learned and build a convolutional, max pooling, dropout, and fully connected layers.  At the end, you'll get to see your neural network's predictions on the sample images.\n",
    "## Get the Data\n",
    "Run the following cell to download the [CIFAR-10 dataset for python](https://www.cs.toronto.edu/~kriz/cifar-10-python.tar.gz)."
   ]
  },
  {
   "cell_type": "code",
   "execution_count": 2,
   "metadata": {},
   "outputs": [
    {
     "name": "stderr",
     "output_type": "stream",
     "text": [
      "CIFAR-10 Dataset: 171MB [14:12, 200KB/s]                                                                               \n"
     ]
    },
    {
     "name": "stdout",
     "output_type": "stream",
     "text": [
      "All files found!\n"
     ]
    }
   ],
   "source": [
    "\"\"\"\n",
    "DON'T MODIFY ANYTHING IN THIS CELL THAT IS BELOW THIS LINE\n",
    "\"\"\"\n",
    "from urllib.request import urlretrieve\n",
    "from os.path import isfile, isdir\n",
    "from tqdm import tqdm\n",
    "import problem_unittests as tests\n",
    "import tarfile\n",
    "\n",
    "cifar10_dataset_folder_path = 'cifar-10-batches-py'\n",
    "\n",
    "class DLProgress(tqdm):\n",
    "    last_block = 0\n",
    "\n",
    "    def hook(self, block_num=1, block_size=1, total_size=None):\n",
    "        self.total = total_size\n",
    "        self.update((block_num - self.last_block) * block_size)\n",
    "        self.last_block = block_num\n",
    "\n",
    "if not isfile('cifar-10-python.tar.gz'):\n",
    "    with DLProgress(unit='B', unit_scale=True, miniters=1, desc='CIFAR-10 Dataset') as pbar:\n",
    "        urlretrieve(\n",
    "            'https://www.cs.toronto.edu/~kriz/cifar-10-python.tar.gz',\n",
    "            'cifar-10-python.tar.gz',\n",
    "            pbar.hook)\n",
    "\n",
    "if not isdir(cifar10_dataset_folder_path):\n",
    "    with tarfile.open('cifar-10-python.tar.gz') as tar:\n",
    "        tar.extractall()\n",
    "        tar.close()\n",
    "\n",
    "\n",
    "tests.test_folder_path(cifar10_dataset_folder_path)"
   ]
  },
  {
   "cell_type": "markdown",
   "metadata": {},
   "source": [
    "## Explore the Data\n",
    "The dataset is broken into batches to prevent your machine from running out of memory.  The CIFAR-10 dataset consists of 5 batches, named `data_batch_1`, `data_batch_2`, etc.. Each batch contains the labels and images that are one of the following:\n",
    "* airplane\n",
    "* automobile\n",
    "* bird\n",
    "* cat\n",
    "* deer\n",
    "* dog\n",
    "* frog\n",
    "* horse\n",
    "* ship\n",
    "* truck\n",
    "\n",
    "Understanding a dataset is part of making predictions on the data.  Play around with the code cell below by changing the `batch_id` and `sample_id`. The `batch_id` is the id for a batch (1-5). The `sample_id` is the id for a image and label pair in the batch.\n",
    "\n",
    "Ask yourself \"What are all possible labels?\", \"What is the range of values for the image data?\", \"Are the labels in order or random?\".  Answers to questions like these will help you preprocess the data and end up with better predictions."
   ]
  },
  {
   "cell_type": "code",
   "execution_count": 3,
   "metadata": {},
   "outputs": [
    {
     "name": "stdout",
     "output_type": "stream",
     "text": [
      "\n",
      "Stats of batch 1:\n",
      "Samples: 10000\n",
      "Label Counts: {0: 1005, 1: 974, 2: 1032, 3: 1016, 4: 999, 5: 937, 6: 1030, 7: 1001, 8: 1025, 9: 981}\n",
      "First 20 Labels: [6, 9, 9, 4, 1, 1, 2, 7, 8, 3, 4, 7, 7, 2, 9, 9, 9, 3, 2, 6]\n",
      "\n",
      "Example of Image 5:\n",
      "Image - Min Value: 0 Max Value: 252\n",
      "Image - Shape: (32, 32, 3)\n",
      "Label - Label Id: 1 Name: automobile\n"
     ]
    },
    {
     "data": {
      "image/png": "[encoded data removed]",
      "text/plain": [
       "<matplotlib.figure.Figure at 0x150c7fdd550>"
      ]
     },
     "metadata": {
      "image/png": {
       "height": 250,
       "width": 253
      }
     },
     "output_type": "display_data"
    }
   ],
   "source": [
    "%matplotlib inline\n",
    "%config InlineBackend.figure_format = 'retina'\n",
    "\n",
    "import helper\n",
    "import numpy as np\n",
    "\n",
    "# Explore the dataset\n",
    "batch_id = 1\n",
    "sample_id = 5\n",
    "helper.display_stats(cifar10_dataset_folder_path, batch_id, sample_id)"
   ]
  },
  {
   "cell_type": "markdown",
   "metadata": {},
   "source": [
    "## Implement Preprocess Functions\n",
    "### Normalize\n",
    "In the cell below, implement the `normalize` function to take in image data, `x`, and return it as a normalized Numpy array. The values should be in the range of 0 to 1, inclusive.  The return object should be the same shape as `x`."
   ]
  },
  {
   "cell_type": "code",
   "execution_count": 5,
   "metadata": {},
   "outputs": [
    {
     "name": "stdout",
     "output_type": "stream",
     "text": [
      "Tests Passed\n"
     ]
    }
   ],
   "source": [
    "def normalize(x):\n",
    "    \"\"\"\n",
    "    Normalize a list of sample image data in the range of 0 to 1\n",
    "    : x: List of image data.  The image shape is (32, 32, 3)\n",
    "    : return: Numpy array of normalize data\n",
    "    \"\"\"\n",
    "    x_max = x.max()\n",
    "    x_min = x.min()\n",
    "    return (x - x_min) / (x_max - x_min)\n",
    "\n",
    "\n",
    "\"\"\"\n",
    "DON'T MODIFY ANYTHING IN THIS CELL THAT IS BELOW THIS LINE\n",
    "\"\"\"\n",
    "tests.test_normalize(normalize)"
   ]
  },
  {
   "cell_type": "markdown",
   "metadata": {},
   "source": [
    "### One-hot encode\n",
    "Just like the previous code cell, you'll be implementing a function for preprocessing.  This time, you'll implement the `one_hot_encode` function. The input, `x`, are a list of labels.  Implement the function to return the list of labels as One-Hot encoded Numpy array.  The possible values for labels are 0 to 9. The one-hot encoding function should return the same encoding for each value between each call to `one_hot_encode`.  Make sure to save the map of encodings outside the function.\n",
    "\n",
    "**Hint:**\n",
    "\n",
    "Look into LabelBinarizer in the preprocessing module of sklearn."
   ]
  },
  {
   "cell_type": "code",
   "execution_count": 6,
   "metadata": {},
   "outputs": [
    {
     "name": "stdout",
     "output_type": "stream",
     "text": [
      "Tests Passed\n"
     ]
    }
   ],
   "source": [
    "def one_hot_encode(x):\n",
    "    \"\"\"\n",
    "    One hot encode a list of sample labels. Return a one-hot encoded vector for each label.\n",
    "    : x: List of sample Labels\n",
    "    : return: Numpy array of one-hot encoded labels\n",
    "    \"\"\"\n",
    "    return np.eye(10)[x]\n",
    "\n",
    "\n",
    "\"\"\"\n",
    "DON'T MODIFY ANYTHING IN THIS CELL THAT IS BELOW THIS LINE\n",
    "\"\"\"\n",
    "tests.test_one_hot_encode(one_hot_encode)"
   ]
  },
  {
   "cell_type": "markdown",
   "metadata": {},
   "source": [
    "### Randomize Data\n",
    "As you saw from exploring the data above, the order of the samples are randomized.  It doesn't hurt to randomize it again, but you don't need to for this dataset."
   ]
  },
  {
   "cell_type": "markdown",
   "metadata": {},
   "source": [
    "## Preprocess all the data and save it\n",
    "Running the code cell below will preprocess all the CIFAR-10 data and save it to file. The code below also uses 10% of the training data for validation."
   ]
  },
  {
   "cell_type": "code",
   "execution_count": 7,
   "metadata": {},
   "outputs": [],
   "source": [
    "\"\"\"\n",
    "DON'T MODIFY ANYTHING IN THIS CELL\n",
    "\"\"\"\n",
    "# Preprocess Training, Validation, and Testing Data\n",
    "helper.preprocess_and_save_data(cifar10_dataset_folder_path, normalize, one_hot_encode)"
   ]
  },
  {
   "cell_type": "markdown",
   "metadata": {},
   "source": [
    "# Check Point\n",
    "This is your first checkpoint.  If you ever decide to come back to this notebook or have to restart the notebook, you can start from here.  The preprocessed data has been saved to disk."
   ]
  },
  {
   "cell_type": "code",
   "execution_count": 8,
   "metadata": {
    "collapsed": true
   },
   "outputs": [],
   "source": [
    "\"\"\"\n",
    "DON'T MODIFY ANYTHING IN THIS CELL\n",
    "\"\"\"\n",
    "import pickle\n",
    "import problem_unittests as tests\n",
    "import helper\n",
    "\n",
    "# Load the Preprocessed Validation data\n",
    "valid_features, valid_labels = pickle.load(open('preprocess_validation.p', mode='rb'))"
   ]
  },
  {
   "cell_type": "markdown",
   "metadata": {},
   "source": [
    "## Build the network\n",
    "For the neural network, you'll build each layer into a function.  Most of the code you've seen has been outside of functions. To test your code more thoroughly, we require that you put each layer in a function.  This allows us to give you better feedback and test for simple mistakes using our unittests before you submit your project.\n",
    "\n",
    ">**Note:** If you're finding it hard to dedicate enough time for this course each week, we've provided a small shortcut to this part of the project. In the next couple of problems, you'll have the option to use classes from the [TensorFlow Layers](https://www.tensorflow.org/api_docs/python/tf/layers) or [TensorFlow Layers (contrib)](https://www.tensorflow.org/api_guides/python/contrib.layers) packages to build each layer, except the layers you build in the \"Convolutional and Max Pooling Layer\" section.  TF Layers is similar to Keras's and TFLearn's abstraction to layers, so it's easy to pickup.\n",
    "\n",
    ">However, if you would like to get the most out of this course, try to solve all the problems _without_ using anything from the TF Layers packages. You **can** still use classes from other packages that happen to have the same name as ones you find in TF Layers! For example, instead of using the TF Layers version of the `conv2d` class, [tf.layers.conv2d](https://www.tensorflow.org/api_docs/python/tf/layers/conv2d), you would want to use the TF Neural Network version of `conv2d`, [tf.nn.conv2d](https://www.tensorflow.org/api_docs/python/tf/nn/conv2d). \n",
    "\n",
    "Let's begin!\n",
    "\n",
    "### Input\n",
    "The neural network needs to read the image data, one-hot encoded labels, and dropout keep probability. Implement the following functions\n",
    "* Implement `neural_net_image_input`\n",
    " * Return a [TF Placeholder](https://www.tensorflow.org/api_docs/python/tf/placeholder)\n",
    " * Set the shape using `image_shape` with batch size set to `None`.\n",
    " * Name the TensorFlow placeholder \"x\" using the TensorFlow `name` parameter in the [TF Placeholder](https://www.tensorflow.org/api_docs/python/tf/placeholder).\n",
    "* Implement `neural_net_label_input`\n",
    " * Return a [TF Placeholder](https://www.tensorflow.org/api_docs/python/tf/placeholder)\n",
    " * Set the shape using `n_classes` with batch size set to `None`.\n",
    " * Name the TensorFlow placeholder \"y\" using the TensorFlow `name` parameter in the [TF Placeholder](https://www.tensorflow.org/api_docs/python/tf/placeholder).\n",
    "* Implement `neural_net_keep_prob_input`\n",
    " * Return a [TF Placeholder](https://www.tensorflow.org/api_docs/python/tf/placeholder) for dropout keep probability.\n",
    " * Name the TensorFlow placeholder \"keep_prob\" using the TensorFlow `name` parameter in the [TF Placeholder](https://www.tensorflow.org/api_docs/python/tf/placeholder).\n",
    "\n",
    "These names will be used at the end of the project to load your saved model.\n",
    "\n",
    "Note: `None` for shapes in TensorFlow allow for a dynamic size."
   ]
  },
  {
   "cell_type": "code",
   "execution_count": 9,
   "metadata": {},
   "outputs": [
    {
     "name": "stdout",
     "output_type": "stream",
     "text": [
      "Image Input Tests Passed.\n",
      "Label Input Tests Passed.\n",
      "Keep Prob Tests Passed.\n"
     ]
    }
   ],
   "source": [
    "import tensorflow as tf\n",
    "\n",
    "def neural_net_image_input(image_shape):\n",
    "    \"\"\"\n",
    "    Return a Tensor for a batch of image input\n",
    "    : image_shape: Shape of the images\n",
    "    : return: Tensor for image input.\n",
    "    \"\"\"\n",
    "    height = image_shape[0]\n",
    "    width = image_shape[1]\n",
    "    depth = image_shape[2]\n",
    "    return tf.placeholder(tf.float32, [None, height, width, depth], name='x')\n",
    "\n",
    "\n",
    "def neural_net_label_input(n_classes):\n",
    "    \"\"\"\n",
    "    Return a Tensor for a batch of label input\n",
    "    : n_classes: Number of classes\n",
    "    : return: Tensor for label input.\n",
    "    \"\"\"\n",
    "    return tf.placeholder(tf.float32, [None, n_classes], name='y')\n",
    "\n",
    "\n",
    "def neural_net_keep_prob_input():\n",
    "    \"\"\"\n",
    "    Return a Tensor for keep probability\n",
    "    : return: Tensor for keep probability.\n",
    "    \"\"\"\n",
    "    return tf.placeholder(tf.float32, name='keep_prob')\n",
    "\n",
    "\n",
    "\"\"\"\n",
    "DON'T MODIFY ANYTHING IN THIS CELL THAT IS BELOW THIS LINE\n",
    "\"\"\"\n",
    "tf.reset_default_graph()\n",
    "tests.test_nn_image_inputs(neural_net_image_input)\n",
    "tests.test_nn_label_inputs(neural_net_label_input)\n",
    "tests.test_nn_keep_prob_inputs(neural_net_keep_prob_input)"
   ]
  },
  {
   "cell_type": "markdown",
   "metadata": {},
   "source": [
    "### Convolution and Max Pooling Layer\n",
    "Convolution layers have a lot of success with images. For this code cell, you should implement the function `conv2d_maxpool` to apply convolution then max pooling:\n",
    "* Create the weight and bias using `conv_ksize`, `conv_num_outputs` and the shape of `x_tensor`.\n",
    "* Apply a convolution to `x_tensor` using weight and `conv_strides`.\n",
    " * We recommend you use same padding, but you're welcome to use any padding.\n",
    "* Add bias\n",
    "* Add a nonlinear activation to the convolution.\n",
    "* Apply Max Pooling using `pool_ksize` and `pool_strides`.\n",
    " * We recommend you use same padding, but you're welcome to use any padding.\n",
    "\n",
    "**Note:** You **can't** use [TensorFlow Layers](https://www.tensorflow.org/api_docs/python/tf/layers) or [TensorFlow Layers (contrib)](https://www.tensorflow.org/api_guides/python/contrib.layers) for **this** layer, but you can still use TensorFlow's [Neural Network](https://www.tensorflow.org/api_docs/python/tf/nn) package. You may still use the shortcut option for all the **other** layers.\n",
    "\n",
    "** Hint: **\n",
    "\n",
    "When unpacking values as an argument in Python, look into the [unpacking](https://docs.python.org/3/tutorial/controlflow.html#unpacking-argument-lists) operator. "
   ]
  },
  {
   "cell_type": "code",
   "execution_count": 10,
   "metadata": {},
   "outputs": [
    {
     "name": "stdout",
     "output_type": "stream",
     "text": [
      "Tests Passed\n"
     ]
    }
   ],
   "source": [
    "def conv2d_maxpool(x_tensor, conv_num_outputs, conv_ksize, conv_strides, pool_ksize, pool_strides):\n",
    "    \"\"\"\n",
    "    Apply convolution then max pooling to x_tensor\n",
    "    :param x_tensor: TensorFlow Tensor\n",
    "    :param conv_num_outputs: Number of outputs for the convolutional layer\n",
    "    :param conv_ksize: kernal size 2-D Tuple for the convolutional layer\n",
    "    :param conv_strides: Stride 2-D Tuple for convolution\n",
    "    :param pool_ksize: kernal size 2-D Tuple for pool\n",
    "    :param pool_strides: Stride 2-D Tuple for pool\n",
    "    : return: A tensor that represents convolution and max pooling of x_tensor\n",
    "    \"\"\"\n",
    "    padding = 'SAME'\n",
    "    \n",
    "    filter_height = conv_ksize[0]\n",
    "    filter_width = conv_ksize[0]\n",
    "    input_depth = x_tensor.get_shape().as_list()[-1]\n",
    "    \n",
    "    filter_weights = tf.Variable(tf.truncated_normal(\n",
    "        [filter_height, filter_width, input_depth, conv_num_outputs],\n",
    "        mean=0.0, stddev=0.1\n",
    "    ))\n",
    "    filter_bias = tf.Variable(tf.zeros(conv_num_outputs))\n",
    "    \n",
    "    conv_strides = [1, conv_strides[0], conv_strides[1], 1]\n",
    "    conv_layer = tf.nn.conv2d(x_tensor, filter_weights, conv_strides, padding)\n",
    "    conv_layer = tf.nn.bias_add(conv_layer, filter_bias)\n",
    "    conv_layer = tf.nn.relu(conv_layer)\n",
    "        \n",
    "    pool_ksize_4d = [1, pool_ksize[0], pool_ksize[1], 1]\n",
    "    pool_strides_4d = [1, pool_strides[0], pool_strides[1], 1]\n",
    "    \n",
    "    max_pool_layer = tf.nn.max_pool(conv_layer, pool_ksize_4d, pool_strides_4d, padding)\n",
    "        \n",
    "    return max_pool_layer\n",
    "\n",
    "\n",
    "\"\"\"\n",
    "DON'T MODIFY ANYTHING IN THIS CELL THAT IS BELOW THIS LINE\n",
    "\"\"\"\n",
    "tests.test_con_pool(conv2d_maxpool)"
   ]
  },
  {
   "cell_type": "markdown",
   "metadata": {},
   "source": [
    "### Flatten Layer\n",
    "Implement the `flatten` function to change the dimension of `x_tensor` from a 4-D tensor to a 2-D tensor.  The output should be the shape (*Batch Size*, *Flattened Image Size*). Shortcut option: you can use classes from the [TensorFlow Layers](https://www.tensorflow.org/api_docs/python/tf/layers) or [TensorFlow Layers (contrib)](https://www.tensorflow.org/api_guides/python/contrib.layers) packages for this layer. For more of a challenge, only use other TensorFlow packages."
   ]
  },
  {
   "cell_type": "code",
   "execution_count": 11,
   "metadata": {},
   "outputs": [
    {
     "name": "stdout",
     "output_type": "stream",
     "text": [
      "Tests Passed\n"
     ]
    }
   ],
   "source": [
    "def flatten(x_tensor):\n",
    "    \"\"\"\n",
    "    Flatten x_tensor to (Batch Size, Flattened Image Size)\n",
    "    : x_tensor: A tensor of size (Batch Size, ...), where ... are the image dimensions.\n",
    "    : return: A tensor of size (Batch Size, Flattened Image Size).\n",
    "    \"\"\"\n",
    "    [batch_size, height, width, depth] = x_tensor.get_shape().as_list()\n",
    "    num_features = height * width * depth\n",
    "    flat_tensor = tf.reshape(x_tensor, [-1, num_features])\n",
    "    \n",
    "    return flat_tensor\n",
    "\n",
    "\n",
    "\"\"\"\n",
    "DON'T MODIFY ANYTHING IN THIS CELL THAT IS BELOW THIS LINE\n",
    "\"\"\"\n",
    "tests.test_flatten(flatten)"
   ]
  },
  {
   "cell_type": "markdown",
   "metadata": {},
   "source": [
    "### Fully-Connected Layer\n",
    "Implement the `fully_conn` function to apply a fully connected layer to `x_tensor` with the shape (*Batch Size*, *num_outputs*). Shortcut option: you can use classes from the [TensorFlow Layers](https://www.tensorflow.org/api_docs/python/tf/layers) or [TensorFlow Layers (contrib)](https://www.tensorflow.org/api_guides/python/contrib.layers) packages for this layer. For more of a challenge, only use other TensorFlow packages."
   ]
  },
  {
   "cell_type": "code",
   "execution_count": 12,
   "metadata": {},
   "outputs": [
    {
     "name": "stdout",
     "output_type": "stream",
     "text": [
      "Tests Passed\n"
     ]
    }
   ],
   "source": [
    "def fully_conn(x_tensor, num_outputs):\n",
    "    \"\"\"\n",
    "    Apply a fully connected layer to x_tensor using weight and bias\n",
    "    : x_tensor: A 2-D tensor where the first dimension is batch size.\n",
    "    : num_outputs: The number of output that the new tensor should be.\n",
    "    : return: A 2-D tensor where the second dimension is num_outputs.\n",
    "    \"\"\"\n",
    "    x_tensor_shape = x_tensor.get_shape().as_list()\n",
    "    weights = tf.Variable(tf.truncated_normal(\n",
    "        [x_tensor_shape[-1], num_outputs],\n",
    "        mean=0.0, stddev=0.1\n",
    "    ))\n",
    "    biases = tf.Variable(tf.zeros([num_outputs]))\n",
    "    \n",
    "    return tf.nn.relu(tf.add(tf.matmul(x_tensor, weights), biases))\n",
    "\n",
    "\n",
    "\"\"\"\n",
    "DON'T MODIFY ANYTHING IN THIS CELL THAT IS BELOW THIS LINE\n",
    "\"\"\"\n",
    "tests.test_fully_conn(fully_conn)"
   ]
  },
  {
   "cell_type": "markdown",
   "metadata": {},
   "source": [
    "### Output Layer\n",
    "Implement the `output` function to apply a fully connected layer to `x_tensor` with the shape (*Batch Size*, *num_outputs*). Shortcut option: you can use classes from the [TensorFlow Layers](https://www.tensorflow.org/api_docs/python/tf/layers) or [TensorFlow Layers (contrib)](https://www.tensorflow.org/api_guides/python/contrib.layers) packages for this layer. For more of a challenge, only use other TensorFlow packages.\n",
    "\n",
    "**Note:** Activation, softmax, or cross entropy should **not** be applied to this."
   ]
  },
  {
   "cell_type": "code",
   "execution_count": 13,
   "metadata": {},
   "outputs": [
    {
     "name": "stdout",
     "output_type": "stream",
     "text": [
      "Tests Passed\n"
     ]
    }
   ],
   "source": [
    "def output(x_tensor, num_outputs):\n",
    "    \"\"\"\n",
    "    Apply a output layer to x_tensor using weight and bias\n",
    "    : x_tensor: A 2-D tensor where the first dimension is batch size.\n",
    "    : num_outputs: The number of output that the new tensor should be.\n",
    "    : return: A 2-D tensor where the second dimension is num_outputs.\n",
    "    \"\"\"\n",
    "    x_tensor_shape = x_tensor.get_shape().as_list()\n",
    "    weights = tf.Variable(tf.truncated_normal(\n",
    "        [x_tensor_shape[-1], num_outputs], \n",
    "        mean=0.0, stddev=0.1\n",
    "    ))\n",
    "    biases = tf.Variable(tf.zeros(num_outputs))\n",
    "    \n",
    "    return tf.add(tf.matmul(x_tensor, weights), biases)\n",
    "\n",
    "\n",
    "\"\"\"\n",
    "DON'T MODIFY ANYTHING IN THIS CELL THAT IS BELOW THIS LINE\n",
    "\"\"\"\n",
    "tests.test_output(output)"
   ]
  },
  {
   "cell_type": "markdown",
   "metadata": {},
   "source": [
    "### Create Convolutional Model\n",
    "Implement the function `conv_net` to create a convolutional neural network model. The function takes in a batch of images, `x`, and outputs logits.  Use the layers you created above to create this model:\n",
    "\n",
    "* Apply 1, 2, or 3 Convolution and Max Pool layers\n",
    "* Apply a Flatten Layer\n",
    "* Apply 1, 2, or 3 Fully Connected Layers\n",
    "* Apply an Output Layer\n",
    "* Return the output\n",
    "* Apply [TensorFlow's Dropout](https://www.tensorflow.org/api_docs/python/tf/nn/dropout) to one or more layers in the model using `keep_prob`. "
   ]
  },
  {
   "cell_type": "code",
   "execution_count": 14,
   "metadata": {},
   "outputs": [
    {
     "name": "stdout",
     "output_type": "stream",
     "text": [
      "Neural Network Built!\n"
     ]
    }
   ],
   "source": [
    "def conv_net(x, keep_prob):\n",
    "    \"\"\"\n",
    "    Create a convolutional neural network model\n",
    "    : x: Placeholder tensor that holds image data.\n",
    "    : keep_prob: Placeholder tensor that hold dropout keep probability.\n",
    "    : return: Tensor that represents logits\n",
    "    \"\"\"\n",
    "    # TODO: Apply 1, 2, or 3 Convolution and Max Pool layers\n",
    "    #    Play around with different number of outputs, kernel size and stride\n",
    "    # Function Definition from Above:\n",
    "    #    conv2d_maxpool(x_tensor, conv_num_outputs, conv_ksize, conv_strides, pool_ksize, pool_strides)\n",
    "    num_conv_layers = 3\n",
    "    conv_num_outputs = [16, 32, 64]\n",
    "    conv_ksizes = [[4, 4], [4, 4], [4, 4]]\n",
    "    conv_strides = [[1, 1], [1, 1], [1, 1]]\n",
    "    pool_ksizes = [[2, 2], [2, 2], [2, 2]]\n",
    "    pool_strides = [[2, 2], [2, 2], [2, 2]]\n",
    "    \n",
    "    conv_layer = x\n",
    "    for i in range(num_conv_layers):\n",
    "        conv_layer = conv2d_maxpool(\n",
    "            conv_layer,\n",
    "            conv_num_outputs[i],\n",
    "            conv_ksizes[i],\n",
    "            conv_strides[i],\n",
    "            pool_ksizes[i],\n",
    "            pool_strides[i]\n",
    "        )\n",
    "\n",
    "    \n",
    "    # TODO: Apply a Flatten Layer\n",
    "    # Function Definition from Above:\n",
    "    #   flatten(x_tensor)\n",
    "    flatten_layer = flatten(conv_layer)\n",
    "\n",
    "    # TODO: Apply 1, 2, or 3 Fully Connected Layers\n",
    "    #    Play around with different number of outputs\n",
    "    # Function Definition from Above:\n",
    "    #   fully_conn(x_tensor, num_outputs)\n",
    "    num_fully_conn_layers = 1\n",
    "    fully_num_outputs = 10\n",
    "    \n",
    "    fully_conn_layer = flatten_layer\n",
    "    for i in range(num_fully_conn_layers):\n",
    "        fully_conn_layer = fully_conn(fully_conn_layer, fully_num_outputs)\n",
    "        fully_conn_layer = tf.nn.dropout(fully_conn_layer, keep_prob)\n",
    "    \n",
    "    # TODO: Apply an Output Layer\n",
    "    #    Set this to the number of classes\n",
    "    # Function Definition from Above:\n",
    "    #   output(x_tensor, num_outputs)\n",
    "    num_classes = 10\n",
    "    output_layer = output(fully_conn_layer, num_classes)\n",
    "    \n",
    "    # TODO: return output\n",
    "    return output_layer\n",
    "\n",
    "\n",
    "\"\"\"\n",
    "DON'T MODIFY ANYTHING IN THIS CELL THAT IS BELOW THIS LINE\n",
    "\"\"\"\n",
    "\n",
    "##############################\n",
    "## Build the Neural Network ##\n",
    "##############################\n",
    "\n",
    "# Remove previous weights, bias, inputs, etc..\n",
    "tf.reset_default_graph()\n",
    "\n",
    "# Inputs\n",
    "x = neural_net_image_input((32, 32, 3))\n",
    "y = neural_net_label_input(10)\n",
    "keep_prob = neural_net_keep_prob_input()\n",
    "\n",
    "# Model\n",
    "logits = conv_net(x, keep_prob)\n",
    "\n",
    "# Name logits Tensor, so that is can be loaded from disk after training\n",
    "logits = tf.identity(logits, name='logits')\n",
    "\n",
    "# Loss and Optimizer\n",
    "cost = tf.reduce_mean(tf.nn.softmax_cross_entropy_with_logits(logits=logits, labels=y))\n",
    "optimizer = tf.train.AdamOptimizer().minimize(cost)\n",
    "\n",
    "# Accuracy\n",
    "correct_pred = tf.equal(tf.argmax(logits, 1), tf.argmax(y, 1))\n",
    "accuracy = tf.reduce_mean(tf.cast(correct_pred, tf.float32), name='accuracy')\n",
    "\n",
    "tests.test_conv_net(conv_net)"
   ]
  },
  {
   "cell_type": "markdown",
   "metadata": {},
   "source": [
    "## Train the Neural Network\n",
    "### Single Optimization\n",
    "Implement the function `train_neural_network` to do a single optimization.  The optimization should use `optimizer` to optimize in `session` with a `feed_dict` of the following:\n",
    "* `x` for image input\n",
    "* `y` for labels\n",
    "* `keep_prob` for keep probability for dropout\n",
    "\n",
    "This function will be called for each batch, so `tf.global_variables_initializer()` has already been called.\n",
    "\n",
    "Note: Nothing needs to be returned. This function is only optimizing the neural network."
   ]
  },
  {
   "cell_type": "code",
   "execution_count": 15,
   "metadata": {},
   "outputs": [
    {
     "name": "stdout",
     "output_type": "stream",
     "text": [
      "Tests Passed\n"
     ]
    }
   ],
   "source": [
    "def train_neural_network(session, optimizer, keep_probability, feature_batch, label_batch):\n",
    "    \"\"\"\n",
    "    Optimize the session on a batch of images and labels\n",
    "    : session: Current TensorFlow session\n",
    "    : optimizer: TensorFlow optimizer function\n",
    "    : keep_probability: keep probability\n",
    "    : feature_batch: Batch of Numpy image data\n",
    "    : label_batch: Batch of Numpy label data\n",
    "    \"\"\"\n",
    "    session.run(optimizer, feed_dict={\n",
    "        x: feature_batch,\n",
    "        y: label_batch,\n",
    "        keep_prob: keep_probability\n",
    "    })\n",
    "\n",
    "\n",
    "\"\"\"\n",
    "DON'T MODIFY ANYTHING IN THIS CELL THAT IS BELOW THIS LINE\n",
    "\"\"\"\n",
    "tests.test_train_nn(train_neural_network)"
   ]
  },
  {
   "cell_type": "markdown",
   "metadata": {},
   "source": [
    "### Show Stats\n",
    "Implement the function `print_stats` to print loss and validation accuracy.  Use the global variables `valid_features` and `valid_labels` to calculate validation accuracy.  Use a keep probability of `1.0` to calculate the loss and validation accuracy."
   ]
  },
  {
   "cell_type": "code",
   "execution_count": 17,
   "metadata": {},
   "outputs": [],
   "source": [
    "def print_stats(session, feature_batch, label_batch, cost, accuracy):\n",
    "    \"\"\"\n",
    "    Print information about loss and validation accuracy\n",
    "    : session: Current TensorFlow session\n",
    "    : feature_batch: Batch of Numpy image data\n",
    "    : label_batch: Batch of Numpy label data\n",
    "    : cost: TensorFlow cost function\n",
    "    : accuracy: TensorFlow accuracy function\n",
    "    \"\"\"\n",
    "    loss = session.run(cost, feed_dict={\n",
    "        x: feature_batch,\n",
    "        y: label_batch,\n",
    "        keep_prob: 1.\n",
    "    })\n",
    "    \n",
    "    valid_accuracy = session.run(accuracy, feed_dict={\n",
    "        x: valid_features,\n",
    "        y: valid_labels,\n",
    "        keep_prob: 1.\n",
    "    })\n",
    "    \n",
    "    print('Loss: {:>10.4f} Validation Accuracy: {:.6f}'.format(\n",
    "        loss, valid_accuracy\n",
    "    ))"
   ]
  },
  {
   "cell_type": "markdown",
   "metadata": {},
   "source": [
    "### Hyperparameters\n",
    "Tune the following parameters:\n",
    "* Set `epochs` to the number of iterations until the network stops learning or start overfitting\n",
    "* Set `batch_size` to the highest number that your machine has memory for.  Most people set them to common sizes of memory:\n",
    " * 64\n",
    " * 128\n",
    " * 256\n",
    " * ...\n",
    "* Set `keep_probability` to the probability of keeping a node using dropout"
   ]
  },
  {
   "cell_type": "code",
   "execution_count": 18,
   "metadata": {
    "collapsed": true
   },
   "outputs": [],
   "source": [
    "# TODO: Tune Parameters\n",
    "epochs = 50\n",
    "batch_size = 128\n",
    "keep_probability = 0.75"
   ]
  },
  {
   "cell_type": "markdown",
   "metadata": {},
   "source": [
    "### Train on a Single CIFAR-10 Batch\n",
    "Instead of training the neural network on all the CIFAR-10 batches of data, let's use a single batch. This should save time while you iterate on the model to get a better accuracy.  Once the final validation accuracy is 50% or greater, run the model on all the data in the next section."
   ]
  },
  {
   "cell_type": "code",
   "execution_count": 19,
   "metadata": {},
   "outputs": [
    {
     "name": "stdout",
     "output_type": "stream",
     "text": [
      "Checking the Training on a Single Batch...\n",
      "Epoch  1, CIFAR-10 Batch 1:  Loss:     2.1460 Validation Accuracy: 0.232600\n",
      "Epoch  2, CIFAR-10 Batch 1:  Loss:     2.0729 Validation Accuracy: 0.276600\n",
      "Epoch  3, CIFAR-10 Batch 1:  Loss:     1.9781 Validation Accuracy: 0.346400\n",
      "Epoch  4, CIFAR-10 Batch 1:  Loss:     1.8872 Validation Accuracy: 0.354400\n",
      "Epoch  5, CIFAR-10 Batch 1:  Loss:     1.8509 Validation Accuracy: 0.354200\n",
      "Epoch  6, CIFAR-10 Batch 1:  Loss:     1.7776 Validation Accuracy: 0.392800\n",
      "Epoch  7, CIFAR-10 Batch 1:  Loss:     1.7403 Validation Accuracy: 0.397400\n",
      "Epoch  8, CIFAR-10 Batch 1:  Loss:     1.6324 Validation Accuracy: 0.405000\n",
      "Epoch  9, CIFAR-10 Batch 1:  Loss:     1.6296 Validation Accuracy: 0.416800\n",
      "Epoch 10, CIFAR-10 Batch 1:  Loss:     1.6035 Validation Accuracy: 0.422200\n",
      "Epoch 11, CIFAR-10 Batch 1:  Loss:     1.5550 Validation Accuracy: 0.435400\n",
      "Epoch 12, CIFAR-10 Batch 1:  Loss:     1.4855 Validation Accuracy: 0.412400\n",
      "Epoch 13, CIFAR-10 Batch 1:  Loss:     1.4217 Validation Accuracy: 0.463600\n",
      "Epoch 14, CIFAR-10 Batch 1:  Loss:     1.3344 Validation Accuracy: 0.458400\n",
      "Epoch 15, CIFAR-10 Batch 1:  Loss:     1.3655 Validation Accuracy: 0.456000\n",
      "Epoch 16, CIFAR-10 Batch 1:  Loss:     1.3011 Validation Accuracy: 0.469400\n",
      "Epoch 17, CIFAR-10 Batch 1:  Loss:     1.2411 Validation Accuracy: 0.476800\n",
      "Epoch 18, CIFAR-10 Batch 1:  Loss:     1.1809 Validation Accuracy: 0.481400\n",
      "Epoch 19, CIFAR-10 Batch 1:  Loss:     1.1344 Validation Accuracy: 0.487000\n",
      "Epoch 20, CIFAR-10 Batch 1:  Loss:     1.1302 Validation Accuracy: 0.497600\n",
      "Epoch 21, CIFAR-10 Batch 1:  Loss:     1.1148 Validation Accuracy: 0.493000\n",
      "Epoch 22, CIFAR-10 Batch 1:  Loss:     1.0899 Validation Accuracy: 0.510400\n",
      "Epoch 23, CIFAR-10 Batch 1:  Loss:     0.9895 Validation Accuracy: 0.507400\n",
      "Epoch 24, CIFAR-10 Batch 1:  Loss:     0.9699 Validation Accuracy: 0.506000\n",
      "Epoch 25, CIFAR-10 Batch 1:  Loss:     0.9303 Validation Accuracy: 0.497200\n",
      "Epoch 26, CIFAR-10 Batch 1:  Loss:     0.9108 Validation Accuracy: 0.514800\n",
      "Epoch 27, CIFAR-10 Batch 1:  Loss:     0.8610 Validation Accuracy: 0.512000\n",
      "Epoch 28, CIFAR-10 Batch 1:  Loss:     0.8132 Validation Accuracy: 0.512400\n",
      "Epoch 29, CIFAR-10 Batch 1:  Loss:     0.8381 Validation Accuracy: 0.516200\n",
      "Epoch 30, CIFAR-10 Batch 1:  Loss:     0.7950 Validation Accuracy: 0.526200\n",
      "Epoch 31, CIFAR-10 Batch 1:  Loss:     0.7615 Validation Accuracy: 0.519200\n",
      "Epoch 32, CIFAR-10 Batch 1:  Loss:     0.7910 Validation Accuracy: 0.490600\n",
      "Epoch 33, CIFAR-10 Batch 1:  Loss:     0.8425 Validation Accuracy: 0.475200\n",
      "Epoch 34, CIFAR-10 Batch 1:  Loss:     0.8158 Validation Accuracy: 0.494400\n",
      "Epoch 35, CIFAR-10 Batch 1:  Loss:     0.7139 Validation Accuracy: 0.524000\n",
      "Epoch 36, CIFAR-10 Batch 1:  Loss:     0.7026 Validation Accuracy: 0.517400\n",
      "Epoch 37, CIFAR-10 Batch 1:  Loss:     0.7306 Validation Accuracy: 0.505400\n",
      "Epoch 38, CIFAR-10 Batch 1:  Loss:     0.6950 Validation Accuracy: 0.510400\n",
      "Epoch 39, CIFAR-10 Batch 1:  Loss:     0.6636 Validation Accuracy: 0.504200\n",
      "Epoch 40, CIFAR-10 Batch 1:  Loss:     0.6788 Validation Accuracy: 0.497200\n",
      "Epoch 41, CIFAR-10 Batch 1:  Loss:     0.6075 Validation Accuracy: 0.517400\n",
      "Epoch 42, CIFAR-10 Batch 1:  Loss:     0.5937 Validation Accuracy: 0.503400\n",
      "Epoch 43, CIFAR-10 Batch 1:  Loss:     0.6084 Validation Accuracy: 0.509600\n",
      "Epoch 44, CIFAR-10 Batch 1:  Loss:     0.5769 Validation Accuracy: 0.519000\n",
      "Epoch 45, CIFAR-10 Batch 1:  Loss:     0.5487 Validation Accuracy: 0.516000\n",
      "Epoch 46, CIFAR-10 Batch 1:  Loss:     0.5291 Validation Accuracy: 0.515800\n",
      "Epoch 47, CIFAR-10 Batch 1:  Loss:     0.5553 Validation Accuracy: 0.521600\n",
      "Epoch 48, CIFAR-10 Batch 1:  Loss:     0.6265 Validation Accuracy: 0.510000\n",
      "Epoch 49, CIFAR-10 Batch 1:  Loss:     0.6396 Validation Accuracy: 0.482800\n",
      "Epoch 50, CIFAR-10 Batch 1:  Loss:     0.6502 Validation Accuracy: 0.488600\n"
     ]
    }
   ],
   "source": [
    "\"\"\"\n",
    "DON'T MODIFY ANYTHING IN THIS CELL\n",
    "\"\"\"\n",
    "print('Checking the Training on a Single Batch...')\n",
    "with tf.Session() as sess:\n",
    "    # Initializing the variables\n",
    "    sess.run(tf.global_variables_initializer())\n",
    "    \n",
    "    # Training cycle\n",
    "    for epoch in range(epochs):\n",
    "        batch_i = 1\n",
    "        for batch_features, batch_labels in helper.load_preprocess_training_batch(batch_i, batch_size):\n",
    "            train_neural_network(sess, optimizer, keep_probability, batch_features, batch_labels)\n",
    "        print('Epoch {:>2}, CIFAR-10 Batch {}:  '.format(epoch + 1, batch_i), end='')\n",
    "        print_stats(sess, batch_features, batch_labels, cost, accuracy)"
   ]
  },
  {
   "cell_type": "markdown",
   "metadata": {},
   "source": [
    "### Fully Train the Model\n",
    "Now that you got a good accuracy with a single CIFAR-10 batch, try it with all five batches."
   ]
  },
  {
   "cell_type": "code",
   "execution_count": 20,
   "metadata": {},
   "outputs": [
    {
     "name": "stdout",
     "output_type": "stream",
     "text": [
      "Training...\n",
      "Epoch  1, CIFAR-10 Batch 1:  Loss:     2.2400 Validation Accuracy: 0.169000\n",
      "Epoch  1, CIFAR-10 Batch 2:  Loss:     2.0206 Validation Accuracy: 0.249200\n",
      "Epoch  1, CIFAR-10 Batch 3:  Loss:     1.7448 Validation Accuracy: 0.294800\n",
      "Epoch  1, CIFAR-10 Batch 4:  Loss:     1.8324 Validation Accuracy: 0.345600\n",
      "Epoch  1, CIFAR-10 Batch 5:  Loss:     1.6566 Validation Accuracy: 0.366000\n",
      "Epoch  2, CIFAR-10 Batch 1:  Loss:     1.7757 Validation Accuracy: 0.401400\n",
      "Epoch  2, CIFAR-10 Batch 2:  Loss:     1.6708 Validation Accuracy: 0.398400\n",
      "Epoch  2, CIFAR-10 Batch 3:  Loss:     1.3411 Validation Accuracy: 0.409000\n",
      "Epoch  2, CIFAR-10 Batch 4:  Loss:     1.5737 Validation Accuracy: 0.432800\n",
      "Epoch  2, CIFAR-10 Batch 5:  Loss:     1.5343 Validation Accuracy: 0.421600\n",
      "Epoch  3, CIFAR-10 Batch 1:  Loss:     1.5771 Validation Accuracy: 0.460400\n",
      "Epoch  3, CIFAR-10 Batch 2:  Loss:     1.4993 Validation Accuracy: 0.458000\n",
      "Epoch  3, CIFAR-10 Batch 3:  Loss:     1.2797 Validation Accuracy: 0.438600\n",
      "Epoch  3, CIFAR-10 Batch 4:  Loss:     1.4740 Validation Accuracy: 0.460600\n",
      "Epoch  3, CIFAR-10 Batch 5:  Loss:     1.4542 Validation Accuracy: 0.465800\n",
      "Epoch  4, CIFAR-10 Batch 1:  Loss:     1.4668 Validation Accuracy: 0.484200\n",
      "Epoch  4, CIFAR-10 Batch 2:  Loss:     1.4095 Validation Accuracy: 0.482600\n",
      "Epoch  4, CIFAR-10 Batch 3:  Loss:     1.1888 Validation Accuracy: 0.489200\n",
      "Epoch  4, CIFAR-10 Batch 4:  Loss:     1.3785 Validation Accuracy: 0.496200\n",
      "Epoch  4, CIFAR-10 Batch 5:  Loss:     1.3230 Validation Accuracy: 0.498000\n",
      "Epoch  5, CIFAR-10 Batch 1:  Loss:     1.3763 Validation Accuracy: 0.496400\n",
      "Epoch  5, CIFAR-10 Batch 2:  Loss:     1.3135 Validation Accuracy: 0.511400\n",
      "Epoch  5, CIFAR-10 Batch 3:  Loss:     1.1894 Validation Accuracy: 0.508400\n",
      "Epoch  5, CIFAR-10 Batch 4:  Loss:     1.3245 Validation Accuracy: 0.515200\n",
      "Epoch  5, CIFAR-10 Batch 5:  Loss:     1.2537 Validation Accuracy: 0.518200\n",
      "Epoch  6, CIFAR-10 Batch 1:  Loss:     1.2548 Validation Accuracy: 0.532400\n",
      "Epoch  6, CIFAR-10 Batch 2:  Loss:     1.2863 Validation Accuracy: 0.528800\n",
      "Epoch  6, CIFAR-10 Batch 3:  Loss:     1.2143 Validation Accuracy: 0.502800\n",
      "Epoch  6, CIFAR-10 Batch 4:  Loss:     1.3069 Validation Accuracy: 0.514800\n",
      "Epoch  6, CIFAR-10 Batch 5:  Loss:     1.1796 Validation Accuracy: 0.533800\n",
      "Epoch  7, CIFAR-10 Batch 1:  Loss:     1.2007 Validation Accuracy: 0.552600\n",
      "Epoch  7, CIFAR-10 Batch 2:  Loss:     1.2060 Validation Accuracy: 0.537800\n",
      "Epoch  7, CIFAR-10 Batch 3:  Loss:     1.0675 Validation Accuracy: 0.532200\n",
      "Epoch  7, CIFAR-10 Batch 4:  Loss:     1.2209 Validation Accuracy: 0.531600\n",
      "Epoch  7, CIFAR-10 Batch 5:  Loss:     1.1381 Validation Accuracy: 0.553800\n",
      "Epoch  8, CIFAR-10 Batch 1:  Loss:     1.1358 Validation Accuracy: 0.559800\n",
      "Epoch  8, CIFAR-10 Batch 2:  Loss:     1.1996 Validation Accuracy: 0.546400\n",
      "Epoch  8, CIFAR-10 Batch 3:  Loss:     1.0305 Validation Accuracy: 0.543600\n",
      "Epoch  8, CIFAR-10 Batch 4:  Loss:     1.1938 Validation Accuracy: 0.547800\n",
      "Epoch  8, CIFAR-10 Batch 5:  Loss:     1.1046 Validation Accuracy: 0.536600\n",
      "Epoch  9, CIFAR-10 Batch 1:  Loss:     0.9942 Validation Accuracy: 0.576600\n",
      "Epoch  9, CIFAR-10 Batch 2:  Loss:     1.1572 Validation Accuracy: 0.558600\n",
      "Epoch  9, CIFAR-10 Batch 3:  Loss:     0.9207 Validation Accuracy: 0.564600\n",
      "Epoch  9, CIFAR-10 Batch 4:  Loss:     1.1089 Validation Accuracy: 0.564000\n",
      "Epoch  9, CIFAR-10 Batch 5:  Loss:     1.0397 Validation Accuracy: 0.547600\n",
      "Epoch 10, CIFAR-10 Batch 1:  Loss:     0.9956 Validation Accuracy: 0.571200\n",
      "Epoch 10, CIFAR-10 Batch 2:  Loss:     1.0765 Validation Accuracy: 0.573400\n",
      "Epoch 10, CIFAR-10 Batch 3:  Loss:     0.8606 Validation Accuracy: 0.580800\n",
      "Epoch 10, CIFAR-10 Batch 4:  Loss:     1.0685 Validation Accuracy: 0.573800\n",
      "Epoch 10, CIFAR-10 Batch 5:  Loss:     1.0252 Validation Accuracy: 0.572200\n",
      "Epoch 11, CIFAR-10 Batch 1:  Loss:     0.9057 Validation Accuracy: 0.591800\n",
      "Epoch 11, CIFAR-10 Batch 2:  Loss:     0.9773 Validation Accuracy: 0.583400\n",
      "Epoch 11, CIFAR-10 Batch 3:  Loss:     0.8603 Validation Accuracy: 0.584400\n",
      "Epoch 11, CIFAR-10 Batch 4:  Loss:     1.0154 Validation Accuracy: 0.565000\n",
      "Epoch 11, CIFAR-10 Batch 5:  Loss:     0.9458 Validation Accuracy: 0.584200\n",
      "Epoch 12, CIFAR-10 Batch 1:  Loss:     0.8581 Validation Accuracy: 0.591600\n",
      "Epoch 12, CIFAR-10 Batch 2:  Loss:     0.9748 Validation Accuracy: 0.581400\n",
      "Epoch 12, CIFAR-10 Batch 3:  Loss:     0.7697 Validation Accuracy: 0.590800\n",
      "Epoch 12, CIFAR-10 Batch 4:  Loss:     0.9652 Validation Accuracy: 0.582800\n",
      "Epoch 12, CIFAR-10 Batch 5:  Loss:     0.8882 Validation Accuracy: 0.582600\n",
      "Epoch 13, CIFAR-10 Batch 1:  Loss:     0.8290 Validation Accuracy: 0.594000\n",
      "Epoch 13, CIFAR-10 Batch 2:  Loss:     0.8642 Validation Accuracy: 0.575200\n",
      "Epoch 13, CIFAR-10 Batch 3:  Loss:     0.6917 Validation Accuracy: 0.608000\n",
      "Epoch 13, CIFAR-10 Batch 4:  Loss:     0.9171 Validation Accuracy: 0.589600\n",
      "Epoch 13, CIFAR-10 Batch 5:  Loss:     0.8683 Validation Accuracy: 0.578600\n",
      "Epoch 14, CIFAR-10 Batch 1:  Loss:     0.8280 Validation Accuracy: 0.578000\n",
      "Epoch 14, CIFAR-10 Batch 2:  Loss:     0.8159 Validation Accuracy: 0.605000\n",
      "Epoch 14, CIFAR-10 Batch 3:  Loss:     0.7071 Validation Accuracy: 0.594800\n",
      "Epoch 14, CIFAR-10 Batch 4:  Loss:     0.8252 Validation Accuracy: 0.604000\n",
      "Epoch 14, CIFAR-10 Batch 5:  Loss:     0.8279 Validation Accuracy: 0.603400\n",
      "Epoch 15, CIFAR-10 Batch 1:  Loss:     0.7123 Validation Accuracy: 0.604800\n",
      "Epoch 15, CIFAR-10 Batch 2:  Loss:     0.7599 Validation Accuracy: 0.606200\n",
      "Epoch 15, CIFAR-10 Batch 3:  Loss:     0.7240 Validation Accuracy: 0.585400\n",
      "Epoch 15, CIFAR-10 Batch 4:  Loss:     0.8370 Validation Accuracy: 0.604600\n",
      "Epoch 15, CIFAR-10 Batch 5:  Loss:     0.7983 Validation Accuracy: 0.612200\n",
      "Epoch 16, CIFAR-10 Batch 1:  Loss:     0.7161 Validation Accuracy: 0.600400\n",
      "Epoch 16, CIFAR-10 Batch 2:  Loss:     0.7870 Validation Accuracy: 0.612800\n",
      "Epoch 16, CIFAR-10 Batch 3:  Loss:     0.6583 Validation Accuracy: 0.608000\n",
      "Epoch 16, CIFAR-10 Batch 4:  Loss:     0.7993 Validation Accuracy: 0.612400\n",
      "Epoch 16, CIFAR-10 Batch 5:  Loss:     0.7574 Validation Accuracy: 0.609000\n",
      "Epoch 17, CIFAR-10 Batch 1:  Loss:     0.7419 Validation Accuracy: 0.596000\n",
      "Epoch 17, CIFAR-10 Batch 2:  Loss:     0.7209 Validation Accuracy: 0.615200\n",
      "Epoch 17, CIFAR-10 Batch 3:  Loss:     0.7026 Validation Accuracy: 0.589800\n",
      "Epoch 17, CIFAR-10 Batch 4:  Loss:     0.8235 Validation Accuracy: 0.603000\n",
      "Epoch 17, CIFAR-10 Batch 5:  Loss:     0.7135 Validation Accuracy: 0.607400\n",
      "Epoch 18, CIFAR-10 Batch 1:  Loss:     0.6762 Validation Accuracy: 0.607000\n",
      "Epoch 18, CIFAR-10 Batch 2:  Loss:     0.7024 Validation Accuracy: 0.615400\n",
      "Epoch 18, CIFAR-10 Batch 3:  Loss:     0.6577 Validation Accuracy: 0.598800\n",
      "Epoch 18, CIFAR-10 Batch 4:  Loss:     0.7773 Validation Accuracy: 0.598400\n",
      "Epoch 18, CIFAR-10 Batch 5:  Loss:     0.6992 Validation Accuracy: 0.609400\n",
      "Epoch 19, CIFAR-10 Batch 1:  Loss:     0.7026 Validation Accuracy: 0.608800\n",
      "Epoch 19, CIFAR-10 Batch 2:  Loss:     0.6439 Validation Accuracy: 0.614400\n",
      "Epoch 19, CIFAR-10 Batch 3:  Loss:     0.6956 Validation Accuracy: 0.587000\n",
      "Epoch 19, CIFAR-10 Batch 4:  Loss:     0.7463 Validation Accuracy: 0.599000\n",
      "Epoch 19, CIFAR-10 Batch 5:  Loss:     0.6702 Validation Accuracy: 0.610000\n",
      "Epoch 20, CIFAR-10 Batch 1:  Loss:     0.6620 Validation Accuracy: 0.608200\n",
      "Epoch 20, CIFAR-10 Batch 2:  Loss:     0.6469 Validation Accuracy: 0.613400\n",
      "Epoch 20, CIFAR-10 Batch 3:  Loss:     0.6814 Validation Accuracy: 0.598200\n",
      "Epoch 20, CIFAR-10 Batch 4:  Loss:     0.7619 Validation Accuracy: 0.608800\n",
      "Epoch 20, CIFAR-10 Batch 5:  Loss:     0.6761 Validation Accuracy: 0.604600\n",
      "Epoch 21, CIFAR-10 Batch 1:  Loss:     0.6329 Validation Accuracy: 0.597400\n",
      "Epoch 21, CIFAR-10 Batch 2:  Loss:     0.6575 Validation Accuracy: 0.619400\n",
      "Epoch 21, CIFAR-10 Batch 3:  Loss:     0.7131 Validation Accuracy: 0.598400\n",
      "Epoch 21, CIFAR-10 Batch 4:  Loss:     0.7486 Validation Accuracy: 0.604600\n",
      "Epoch 21, CIFAR-10 Batch 5:  Loss:     0.7045 Validation Accuracy: 0.613000\n",
      "Epoch 22, CIFAR-10 Batch 1:  Loss:     0.6159 Validation Accuracy: 0.604400\n",
      "Epoch 22, CIFAR-10 Batch 2:  Loss:     0.6405 Validation Accuracy: 0.596600\n"
     ]
    },
    {
     "name": "stdout",
     "output_type": "stream",
     "text": [
      "Epoch 22, CIFAR-10 Batch 3:  Loss:     0.6614 Validation Accuracy: 0.603200\n",
      "Epoch 22, CIFAR-10 Batch 4:  Loss:     0.7846 Validation Accuracy: 0.600200\n",
      "Epoch 22, CIFAR-10 Batch 5:  Loss:     0.6133 Validation Accuracy: 0.614000\n",
      "Epoch 23, CIFAR-10 Batch 1:  Loss:     0.6094 Validation Accuracy: 0.600000\n",
      "Epoch 23, CIFAR-10 Batch 2:  Loss:     0.5725 Validation Accuracy: 0.608200\n",
      "Epoch 23, CIFAR-10 Batch 3:  Loss:     0.6444 Validation Accuracy: 0.614600\n",
      "Epoch 23, CIFAR-10 Batch 4:  Loss:     0.7069 Validation Accuracy: 0.609200\n",
      "Epoch 23, CIFAR-10 Batch 5:  Loss:     0.6193 Validation Accuracy: 0.619600\n",
      "Epoch 24, CIFAR-10 Batch 1:  Loss:     0.6056 Validation Accuracy: 0.598800\n",
      "Epoch 24, CIFAR-10 Batch 2:  Loss:     0.6006 Validation Accuracy: 0.609600\n",
      "Epoch 24, CIFAR-10 Batch 3:  Loss:     0.6453 Validation Accuracy: 0.614800\n",
      "Epoch 24, CIFAR-10 Batch 4:  Loss:     0.7194 Validation Accuracy: 0.611000\n",
      "Epoch 24, CIFAR-10 Batch 5:  Loss:     0.6406 Validation Accuracy: 0.605200\n",
      "Epoch 25, CIFAR-10 Batch 1:  Loss:     0.5841 Validation Accuracy: 0.610400\n",
      "Epoch 25, CIFAR-10 Batch 2:  Loss:     0.5417 Validation Accuracy: 0.609400\n",
      "Epoch 25, CIFAR-10 Batch 3:  Loss:     0.6234 Validation Accuracy: 0.614800\n",
      "Epoch 25, CIFAR-10 Batch 4:  Loss:     0.6524 Validation Accuracy: 0.617200\n",
      "Epoch 25, CIFAR-10 Batch 5:  Loss:     0.5964 Validation Accuracy: 0.608000\n",
      "Epoch 26, CIFAR-10 Batch 1:  Loss:     0.5857 Validation Accuracy: 0.614000\n",
      "Epoch 26, CIFAR-10 Batch 2:  Loss:     0.5825 Validation Accuracy: 0.610000\n",
      "Epoch 26, CIFAR-10 Batch 3:  Loss:     0.6164 Validation Accuracy: 0.610200\n",
      "Epoch 26, CIFAR-10 Batch 4:  Loss:     0.6975 Validation Accuracy: 0.606400\n",
      "Epoch 26, CIFAR-10 Batch 5:  Loss:     0.5641 Validation Accuracy: 0.606000\n",
      "Epoch 27, CIFAR-10 Batch 1:  Loss:     0.6189 Validation Accuracy: 0.622600\n",
      "Epoch 27, CIFAR-10 Batch 2:  Loss:     0.6131 Validation Accuracy: 0.611000\n",
      "Epoch 27, CIFAR-10 Batch 3:  Loss:     0.5923 Validation Accuracy: 0.604600\n",
      "Epoch 27, CIFAR-10 Batch 4:  Loss:     0.6611 Validation Accuracy: 0.613600\n",
      "Epoch 27, CIFAR-10 Batch 5:  Loss:     0.5543 Validation Accuracy: 0.606600\n",
      "Epoch 28, CIFAR-10 Batch 1:  Loss:     0.6275 Validation Accuracy: 0.621400\n",
      "Epoch 28, CIFAR-10 Batch 2:  Loss:     0.5873 Validation Accuracy: 0.617400\n",
      "Epoch 28, CIFAR-10 Batch 3:  Loss:     0.5891 Validation Accuracy: 0.613000\n",
      "Epoch 28, CIFAR-10 Batch 4:  Loss:     0.6357 Validation Accuracy: 0.612200\n",
      "Epoch 28, CIFAR-10 Batch 5:  Loss:     0.4962 Validation Accuracy: 0.615000\n",
      "Epoch 29, CIFAR-10 Batch 1:  Loss:     0.6021 Validation Accuracy: 0.627800\n",
      "Epoch 29, CIFAR-10 Batch 2:  Loss:     0.5278 Validation Accuracy: 0.619000\n",
      "Epoch 29, CIFAR-10 Batch 3:  Loss:     0.5717 Validation Accuracy: 0.619000\n",
      "Epoch 29, CIFAR-10 Batch 4:  Loss:     0.6653 Validation Accuracy: 0.606600\n",
      "Epoch 29, CIFAR-10 Batch 5:  Loss:     0.5045 Validation Accuracy: 0.619200\n",
      "Epoch 30, CIFAR-10 Batch 1:  Loss:     0.5795 Validation Accuracy: 0.630200\n",
      "Epoch 30, CIFAR-10 Batch 2:  Loss:     0.5047 Validation Accuracy: 0.614000\n",
      "Epoch 30, CIFAR-10 Batch 3:  Loss:     0.5302 Validation Accuracy: 0.615200\n",
      "Epoch 30, CIFAR-10 Batch 4:  Loss:     0.6324 Validation Accuracy: 0.613200\n",
      "Epoch 30, CIFAR-10 Batch 5:  Loss:     0.5030 Validation Accuracy: 0.613800\n",
      "Epoch 31, CIFAR-10 Batch 1:  Loss:     0.6392 Validation Accuracy: 0.616000\n",
      "Epoch 31, CIFAR-10 Batch 2:  Loss:     0.5194 Validation Accuracy: 0.611600\n",
      "Epoch 31, CIFAR-10 Batch 3:  Loss:     0.5142 Validation Accuracy: 0.622800\n",
      "Epoch 31, CIFAR-10 Batch 4:  Loss:     0.5747 Validation Accuracy: 0.625000\n",
      "Epoch 31, CIFAR-10 Batch 5:  Loss:     0.5443 Validation Accuracy: 0.615600\n",
      "Epoch 32, CIFAR-10 Batch 1:  Loss:     0.5794 Validation Accuracy: 0.623200\n",
      "Epoch 32, CIFAR-10 Batch 2:  Loss:     0.5104 Validation Accuracy: 0.617600\n",
      "Epoch 32, CIFAR-10 Batch 3:  Loss:     0.5271 Validation Accuracy: 0.605200\n",
      "Epoch 32, CIFAR-10 Batch 4:  Loss:     0.5992 Validation Accuracy: 0.600600\n",
      "Epoch 32, CIFAR-10 Batch 5:  Loss:     0.4861 Validation Accuracy: 0.632800\n",
      "Epoch 33, CIFAR-10 Batch 1:  Loss:     0.6065 Validation Accuracy: 0.618400\n",
      "Epoch 33, CIFAR-10 Batch 2:  Loss:     0.5306 Validation Accuracy: 0.623600\n",
      "Epoch 33, CIFAR-10 Batch 3:  Loss:     0.5077 Validation Accuracy: 0.609000\n",
      "Epoch 33, CIFAR-10 Batch 4:  Loss:     0.5524 Validation Accuracy: 0.609000\n",
      "Epoch 33, CIFAR-10 Batch 5:  Loss:     0.4799 Validation Accuracy: 0.615200\n",
      "Epoch 34, CIFAR-10 Batch 1:  Loss:     0.5801 Validation Accuracy: 0.611000\n",
      "Epoch 34, CIFAR-10 Batch 2:  Loss:     0.4933 Validation Accuracy: 0.616800\n",
      "Epoch 34, CIFAR-10 Batch 3:  Loss:     0.5320 Validation Accuracy: 0.622400\n",
      "Epoch 34, CIFAR-10 Batch 4:  Loss:     0.5744 Validation Accuracy: 0.613400\n",
      "Epoch 34, CIFAR-10 Batch 5:  Loss:     0.4541 Validation Accuracy: 0.625000\n",
      "Epoch 35, CIFAR-10 Batch 1:  Loss:     0.5085 Validation Accuracy: 0.617800\n",
      "Epoch 35, CIFAR-10 Batch 2:  Loss:     0.5084 Validation Accuracy: 0.625400\n",
      "Epoch 35, CIFAR-10 Batch 3:  Loss:     0.5302 Validation Accuracy: 0.619400\n",
      "Epoch 35, CIFAR-10 Batch 4:  Loss:     0.5535 Validation Accuracy: 0.618400\n",
      "Epoch 35, CIFAR-10 Batch 5:  Loss:     0.4239 Validation Accuracy: 0.623800\n",
      "Epoch 36, CIFAR-10 Batch 1:  Loss:     0.4652 Validation Accuracy: 0.626400\n",
      "Epoch 36, CIFAR-10 Batch 2:  Loss:     0.4693 Validation Accuracy: 0.617200\n",
      "Epoch 36, CIFAR-10 Batch 3:  Loss:     0.4724 Validation Accuracy: 0.622600\n",
      "Epoch 36, CIFAR-10 Batch 4:  Loss:     0.6101 Validation Accuracy: 0.597600\n",
      "Epoch 36, CIFAR-10 Batch 5:  Loss:     0.4153 Validation Accuracy: 0.625600\n",
      "Epoch 37, CIFAR-10 Batch 1:  Loss:     0.5110 Validation Accuracy: 0.634400\n",
      "Epoch 37, CIFAR-10 Batch 2:  Loss:     0.4796 Validation Accuracy: 0.623200\n",
      "Epoch 37, CIFAR-10 Batch 3:  Loss:     0.5081 Validation Accuracy: 0.616400\n",
      "Epoch 37, CIFAR-10 Batch 4:  Loss:     0.4737 Validation Accuracy: 0.619000\n",
      "Epoch 37, CIFAR-10 Batch 5:  Loss:     0.4168 Validation Accuracy: 0.623600\n",
      "Epoch 38, CIFAR-10 Batch 1:  Loss:     0.4938 Validation Accuracy: 0.628000\n",
      "Epoch 38, CIFAR-10 Batch 2:  Loss:     0.4472 Validation Accuracy: 0.618600\n",
      "Epoch 38, CIFAR-10 Batch 3:  Loss:     0.5051 Validation Accuracy: 0.618600\n",
      "Epoch 38, CIFAR-10 Batch 4:  Loss:     0.4825 Validation Accuracy: 0.624000\n",
      "Epoch 38, CIFAR-10 Batch 5:  Loss:     0.4004 Validation Accuracy: 0.636000\n",
      "Epoch 39, CIFAR-10 Batch 1:  Loss:     0.4459 Validation Accuracy: 0.624800\n",
      "Epoch 39, CIFAR-10 Batch 2:  Loss:     0.4271 Validation Accuracy: 0.619600\n",
      "Epoch 39, CIFAR-10 Batch 3:  Loss:     0.4666 Validation Accuracy: 0.622000\n",
      "Epoch 39, CIFAR-10 Batch 4:  Loss:     0.4993 Validation Accuracy: 0.613400\n",
      "Epoch 39, CIFAR-10 Batch 5:  Loss:     0.3936 Validation Accuracy: 0.626800\n",
      "Epoch 40, CIFAR-10 Batch 1:  Loss:     0.4722 Validation Accuracy: 0.630400\n",
      "Epoch 40, CIFAR-10 Batch 2:  Loss:     0.4134 Validation Accuracy: 0.631200\n",
      "Epoch 40, CIFAR-10 Batch 3:  Loss:     0.4515 Validation Accuracy: 0.628600\n",
      "Epoch 40, CIFAR-10 Batch 4:  Loss:     0.4834 Validation Accuracy: 0.632800\n",
      "Epoch 40, CIFAR-10 Batch 5:  Loss:     0.3803 Validation Accuracy: 0.631800\n",
      "Epoch 41, CIFAR-10 Batch 1:  Loss:     0.4987 Validation Accuracy: 0.620800\n",
      "Epoch 41, CIFAR-10 Batch 2:  Loss:     0.3876 Validation Accuracy: 0.607800\n",
      "Epoch 41, CIFAR-10 Batch 3:  Loss:     0.4498 Validation Accuracy: 0.616600\n",
      "Epoch 41, CIFAR-10 Batch 4:  Loss:     0.4421 Validation Accuracy: 0.623800\n",
      "Epoch 41, CIFAR-10 Batch 5:  Loss:     0.4151 Validation Accuracy: 0.624200\n",
      "Epoch 42, CIFAR-10 Batch 1:  Loss:     0.4030 Validation Accuracy: 0.627200\n",
      "Epoch 42, CIFAR-10 Batch 2:  Loss:     0.4296 Validation Accuracy: 0.621600\n",
      "Epoch 42, CIFAR-10 Batch 3:  Loss:     0.4246 Validation Accuracy: 0.638000\n",
      "Epoch 42, CIFAR-10 Batch 4:  Loss:     0.4585 Validation Accuracy: 0.635400\n",
      "Epoch 42, CIFAR-10 Batch 5:  Loss:     0.3925 Validation Accuracy: 0.632400\n",
      "Epoch 43, CIFAR-10 Batch 1:  Loss:     0.3880 Validation Accuracy: 0.632600\n",
      "Epoch 43, CIFAR-10 Batch 2:  Loss:     0.3664 Validation Accuracy: 0.615600\n",
      "Epoch 43, CIFAR-10 Batch 3:  Loss:     0.4275 Validation Accuracy: 0.628400\n",
      "Epoch 43, CIFAR-10 Batch 4:  Loss:     0.4267 Validation Accuracy: 0.618600\n"
     ]
    },
    {
     "name": "stdout",
     "output_type": "stream",
     "text": [
      "Epoch 43, CIFAR-10 Batch 5:  Loss:     0.3703 Validation Accuracy: 0.634200\n",
      "Epoch 44, CIFAR-10 Batch 1:  Loss:     0.3947 Validation Accuracy: 0.631000\n",
      "Epoch 44, CIFAR-10 Batch 2:  Loss:     0.3657 Validation Accuracy: 0.629400\n",
      "Epoch 44, CIFAR-10 Batch 3:  Loss:     0.4402 Validation Accuracy: 0.631400\n",
      "Epoch 44, CIFAR-10 Batch 4:  Loss:     0.4511 Validation Accuracy: 0.626600\n",
      "Epoch 44, CIFAR-10 Batch 5:  Loss:     0.3844 Validation Accuracy: 0.632800\n",
      "Epoch 45, CIFAR-10 Batch 1:  Loss:     0.3656 Validation Accuracy: 0.632200\n",
      "Epoch 45, CIFAR-10 Batch 2:  Loss:     0.3768 Validation Accuracy: 0.605800\n",
      "Epoch 45, CIFAR-10 Batch 3:  Loss:     0.4177 Validation Accuracy: 0.637800\n",
      "Epoch 45, CIFAR-10 Batch 4:  Loss:     0.4484 Validation Accuracy: 0.630000\n",
      "Epoch 45, CIFAR-10 Batch 5:  Loss:     0.4466 Validation Accuracy: 0.631600\n",
      "Epoch 46, CIFAR-10 Batch 1:  Loss:     0.3892 Validation Accuracy: 0.627800\n",
      "Epoch 46, CIFAR-10 Batch 2:  Loss:     0.4070 Validation Accuracy: 0.617600\n",
      "Epoch 46, CIFAR-10 Batch 3:  Loss:     0.4207 Validation Accuracy: 0.633000\n",
      "Epoch 46, CIFAR-10 Batch 4:  Loss:     0.4351 Validation Accuracy: 0.640200\n",
      "Epoch 46, CIFAR-10 Batch 5:  Loss:     0.3425 Validation Accuracy: 0.630000\n",
      "Epoch 47, CIFAR-10 Batch 1:  Loss:     0.3802 Validation Accuracy: 0.632200\n",
      "Epoch 47, CIFAR-10 Batch 2:  Loss:     0.3858 Validation Accuracy: 0.625000\n",
      "Epoch 47, CIFAR-10 Batch 3:  Loss:     0.3872 Validation Accuracy: 0.633000\n",
      "Epoch 47, CIFAR-10 Batch 4:  Loss:     0.4100 Validation Accuracy: 0.634200\n",
      "Epoch 47, CIFAR-10 Batch 5:  Loss:     0.3124 Validation Accuracy: 0.630600\n",
      "Epoch 48, CIFAR-10 Batch 1:  Loss:     0.3789 Validation Accuracy: 0.624600\n",
      "Epoch 48, CIFAR-10 Batch 2:  Loss:     0.3515 Validation Accuracy: 0.616200\n",
      "Epoch 48, CIFAR-10 Batch 3:  Loss:     0.4152 Validation Accuracy: 0.632600\n",
      "Epoch 48, CIFAR-10 Batch 4:  Loss:     0.4294 Validation Accuracy: 0.632000\n",
      "Epoch 48, CIFAR-10 Batch 5:  Loss:     0.3543 Validation Accuracy: 0.631400\n",
      "Epoch 49, CIFAR-10 Batch 1:  Loss:     0.3650 Validation Accuracy: 0.627400\n",
      "Epoch 49, CIFAR-10 Batch 2:  Loss:     0.3436 Validation Accuracy: 0.616800\n",
      "Epoch 49, CIFAR-10 Batch 3:  Loss:     0.4022 Validation Accuracy: 0.622200\n",
      "Epoch 49, CIFAR-10 Batch 4:  Loss:     0.4258 Validation Accuracy: 0.640800\n",
      "Epoch 49, CIFAR-10 Batch 5:  Loss:     0.3161 Validation Accuracy: 0.639000\n",
      "Epoch 50, CIFAR-10 Batch 1:  Loss:     0.3820 Validation Accuracy: 0.633600\n",
      "Epoch 50, CIFAR-10 Batch 2:  Loss:     0.3476 Validation Accuracy: 0.618800\n",
      "Epoch 50, CIFAR-10 Batch 3:  Loss:     0.4121 Validation Accuracy: 0.622000\n",
      "Epoch 50, CIFAR-10 Batch 4:  Loss:     0.4423 Validation Accuracy: 0.630400\n",
      "Epoch 50, CIFAR-10 Batch 5:  Loss:     0.3209 Validation Accuracy: 0.640200\n"
     ]
    }
   ],
   "source": [
    "\"\"\"\n",
    "DON'T MODIFY ANYTHING IN THIS CELL\n",
    "\"\"\"\n",
    "save_model_path = './image_classification'\n",
    "\n",
    "print('Training...')\n",
    "with tf.Session() as sess:\n",
    "    # Initializing the variables\n",
    "    sess.run(tf.global_variables_initializer())\n",
    "    \n",
    "    # Training cycle\n",
    "    for epoch in range(epochs):\n",
    "        # Loop over all batches\n",
    "        n_batches = 5\n",
    "        for batch_i in range(1, n_batches + 1):\n",
    "            for batch_features, batch_labels in helper.load_preprocess_training_batch(batch_i, batch_size):\n",
    "                train_neural_network(sess, optimizer, keep_probability, batch_features, batch_labels)\n",
    "            print('Epoch {:>2}, CIFAR-10 Batch {}:  '.format(epoch + 1, batch_i), end='')\n",
    "            print_stats(sess, batch_features, batch_labels, cost, accuracy)\n",
    "            \n",
    "    # Save Model\n",
    "    saver = tf.train.Saver()\n",
    "    save_path = saver.save(sess, save_model_path)"
   ]
  },
  {
   "cell_type": "markdown",
   "metadata": {},
   "source": [
    "# Checkpoint\n",
    "The model has been saved to disk.\n",
    "## Test Model\n",
    "Test your model against the test dataset.  This will be your final accuracy. You should have an accuracy greater than 50%. If you don't, keep tweaking the model architecture and parameters."
   ]
  },
  {
   "cell_type": "code",
   "execution_count": 21,
   "metadata": {},
   "outputs": [
    {
     "name": "stdout",
     "output_type": "stream",
     "text": [
      "INFO:tensorflow:Restoring parameters from ./image_classification\n",
      "Testing Accuracy: 0.6284612341772152\n",
      "\n"
     ]
    },
    {
     "data": {
      "image/png": "[encoded data removed]",
      "text/plain": [
       "<matplotlib.figure.Figure at 0x150c8013470>"
      ]
     },
     "metadata": {
      "image/png": {
       "height": 319,
       "width": 355
      }
     },
     "output_type": "display_data"
    }
   ],
   "source": [
    "\"\"\"\n",
    "DON'T MODIFY ANYTHING IN THIS CELL\n",
    "\"\"\"\n",
    "%matplotlib inline\n",
    "%config InlineBackend.figure_format = 'retina'\n",
    "\n",
    "import tensorflow as tf\n",
    "import pickle\n",
    "import helper\n",
    "import random\n",
    "\n",
    "# Set batch size if not already set\n",
    "try:\n",
    "    if batch_size:\n",
    "        pass\n",
    "except NameError:\n",
    "    batch_size = 64\n",
    "\n",
    "save_model_path = './image_classification'\n",
    "n_samples = 4\n",
    "top_n_predictions = 3\n",
    "\n",
    "def test_model():\n",
    "    \"\"\"\n",
    "    Test the saved model against the test dataset\n",
    "    \"\"\"\n",
    "\n",
    "    test_features, test_labels = pickle.load(open('preprocess_training.p', mode='rb'))\n",
    "    loaded_graph = tf.Graph()\n",
    "\n",
    "    with tf.Session(graph=loaded_graph) as sess:\n",
    "        # Load model\n",
    "        loader = tf.train.import_meta_graph(save_model_path + '.meta')\n",
    "        loader.restore(sess, save_model_path)\n",
    "\n",
    "        # Get Tensors from loaded model\n",
    "        loaded_x = loaded_graph.get_tensor_by_name('x:0')\n",
    "        loaded_y = loaded_graph.get_tensor_by_name('y:0')\n",
    "        loaded_keep_prob = loaded_graph.get_tensor_by_name('keep_prob:0')\n",
    "        loaded_logits = loaded_graph.get_tensor_by_name('logits:0')\n",
    "        loaded_acc = loaded_graph.get_tensor_by_name('accuracy:0')\n",
    "        \n",
    "        # Get accuracy in batches for memory limitations\n",
    "        test_batch_acc_total = 0\n",
    "        test_batch_count = 0\n",
    "        \n",
    "        for train_feature_batch, train_label_batch in helper.batch_features_labels(test_features, test_labels, batch_size):\n",
    "            test_batch_acc_total += sess.run(\n",
    "                loaded_acc,\n",
    "                feed_dict={loaded_x: train_feature_batch, loaded_y: train_label_batch, loaded_keep_prob: 1.0})\n",
    "            test_batch_count += 1\n",
    "\n",
    "        print('Testing Accuracy: {}\\n'.format(test_batch_acc_total/test_batch_count))\n",
    "\n",
    "        # Print Random Samples\n",
    "        random_test_features, random_test_labels = tuple(zip(*random.sample(list(zip(test_features, test_labels)), n_samples)))\n",
    "        random_test_predictions = sess.run(\n",
    "            tf.nn.top_k(tf.nn.softmax(loaded_logits), top_n_predictions),\n",
    "            feed_dict={loaded_x: random_test_features, loaded_y: random_test_labels, loaded_keep_prob: 1.0})\n",
    "        helper.display_image_predictions(random_test_features, random_test_labels, random_test_predictions)\n",
    "\n",
    "\n",
    "test_model()"
   ]
  },
  {
   "cell_type": "markdown",
   "metadata": {},
   "source": [
    "## Why 50-80% Accuracy?\n",
    "You might be wondering why you can't get an accuracy any higher. First things first, 50% isn't bad for a simple CNN.  Pure guessing would get you 10% accuracy. That's because there are many more techniques that can be applied to your model and we recemmond that once you are done with this project, you explore!\n",
    "\n",
    "## Submitting This Project\n",
    "When submitting this project, make sure to run all the cells before saving the notebook.  Save the notebook file as \"image_classification.ipynb\" and save it as a HTML file under \"File\" -> \"Download as\".  Include the \"helper.py\" and \"problem_unittests.py\" files in your submission."
   ]
  }
 ],
 "metadata": {
  "kernelspec": {
   "display_name": "Python 3",
   "language": "python",
   "name": "python3"
  },
  "language_info": {
   "codemirror_mode": {
    "name": "ipython",
    "version": 3
   },
   "file_extension": ".py",
   "mimetype": "text/x-python",
   "name": "python",
   "nbconvert_exporter": "python",
   "pygments_lexer": "ipython3",
   "version": "3.5.3"
  }
 },
 "nbformat": 4,
 "nbformat_minor": 1
}
